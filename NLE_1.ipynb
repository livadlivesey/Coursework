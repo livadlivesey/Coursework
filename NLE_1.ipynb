{
  "nbformat": 4,
  "nbformat_minor": 0,
  "metadata": {
    "colab": {
      "name": "NLEassignment1.ipynb",
      "provenance": [],
      "collapsed_sections": [],
      "include_colab_link": true
    },
    "kernelspec": {
      "name": "python3",
      "display_name": "Python 3"
    }
  },
  "cells": [
    {
      "cell_type": "markdown",
      "metadata": {
        "id": "view-in-github",
        "colab_type": "text"
      },
      "source": [
        "<a href=\"https://colab.research.google.com/github/livadlivesey/Coursework/blob/main/NLE_1\" target=\"_parent\"><img src=\"https://colab.research.google.com/assets/colab-badge.svg\" alt=\"Open In Colab\"/></a>"
      ]
    },
    {
      "cell_type": "markdown",
      "metadata": {
        "id": "f2S8I2ny-ovS"
      },
      "source": [
        "# NLE Assignment 1: Books vs DVDs\n",
        "\n",
        "In this assignment, you will be investigating NLP methods for distinguishing reviews written about books from reviews written about DVDs.\n",
        "\n",
        "For assessment, you are expected to complete and submit this notebook file.  When answers require code, you may import and use library functions (unless explicitly told otherwise).  All of your own code should be included in the notebook rather than imported from elsewhere.  Written answers should also be included in the notebook.  You should insert as many extra cells as you want and change the type between code and markdown as appropriate.\n",
        "\n",
        "In order to avoid misconduct, you should not talk about the assignment questions with your peers.  If you are not sure what a question is asking you to do or have any other questions, please ask me or one of the Teaching Assistants.\n",
        "\n",
        "Marking guidelines are provided as a separate document.\n",
        "\n",
        "The first few cells contain code to set-up the assignment and bring in some data.   In order to provide unique datasets for analysis by different students, you must enter your candidate number in the following cell.  Otherwise do not change the code in these cells."
      ]
    },
    {
      "cell_type": "code",
      "metadata": {
        "id": "1gXQAZas-l9c"
      },
      "source": [
        "candidateno=215865 #this MUST be updated to your candidate number so that you get a unique data sample\n"
      ],
      "execution_count": null,
      "outputs": []
    },
    {
      "cell_type": "code",
      "metadata": {
        "id": "xXshmwtaBTGm",
        "colab": {
          "base_uri": "https://localhost:8080/",
          "height": 34
        },
        "outputId": "c4bde39d-9de3-4ce2-e817-e55f016f9f6b"
      },
      "source": [
        "#set up drives for resources.  Change the path as necessary\n",
        "\n",
        "from google.colab import drive\n",
        "#mount google drive\n",
        "drive.mount('/content/drive/')\n",
        "import sys\n",
        "sys.path.append('/content/drive/My Drive/Colab Notebooks/resources/')\n"
      ],
      "execution_count": null,
      "outputs": [
        {
          "output_type": "stream",
          "text": [
            "Mounted at /content/drive/\n"
          ],
          "name": "stdout"
        }
      ]
    },
    {
      "cell_type": "code",
      "metadata": {
        "id": "nk8JTP88A8vs",
        "colab": {
          "base_uri": "https://localhost:8080/",
          "height": 102
        },
        "outputId": "1d8ebafd-41e1-48df-c0ab-5050a3bd7891"
      },
      "source": [
        "#do not change the code in this cell\n",
        "#preliminary imports\n",
        "\n",
        "#for setting up training and testing data\n",
        "from sussex_nltk.corpus_readers import AmazonReviewCorpusReader\n",
        "import random\n",
        "\n",
        "#set up nltk\n",
        "import nltk\n",
        "nltk.download('punkt')\n",
        "nltk.download('stopwords')\n",
        "from nltk.corpus import stopwords\n",
        "from nltk.tokenize import word_tokenize\n",
        "\n",
        "#useful other tools\n",
        "import re\n",
        "import pandas as pd\n",
        "import matplotlib.pyplot as plt\n",
        "# %matplotlib inline\n",
        "from itertools import zip_longest\n"
      ],
      "execution_count": null,
      "outputs": [
        {
          "output_type": "stream",
          "text": [
            "Sussex NLTK root directory is /content/drive/My Drive/Colab Notebooks/resources\n",
            "[nltk_data] Downloading package punkt to /root/nltk_data...\n",
            "[nltk_data]   Unzipping tokenizers/punkt.zip.\n",
            "[nltk_data] Downloading package stopwords to /root/nltk_data...\n",
            "[nltk_data]   Unzipping corpora/stopwords.zip.\n"
          ],
          "name": "stdout"
        }
      ]
    },
    {
      "cell_type": "code",
      "metadata": {
        "id": "BHBkzAccCVaZ"
      },
      "source": [
        "#do not change the code in this cell\n",
        "def split_data(data, ratio=0.7): # when the second argument is not given, it defaults to 0.7\n",
        "    \"\"\"\n",
        "    Given corpus generator and ratio:\n",
        "     - partitions the corpus into training data and test data, where the proportion in train is ratio,\n",
        "\n",
        "    :param data: A corpus generator.\n",
        "    :param ratio: The proportion of training documents (default 0.7)\n",
        "    :return: a pair (tuple) of lists where the first element of the \n",
        "            pair is a list of the training data and the second is a list of the test data.\n",
        "    \"\"\"\n",
        "    \n",
        "    data = list(data)  \n",
        "    n = len(data)  \n",
        "    train_indices = random.sample(range(n), int(n * ratio))          \n",
        "    test_indices = list(set(range(n)) - set(train_indices))    \n",
        "    train = [data[i] for i in train_indices]           \n",
        "    test = [data[i] for i in test_indices]             \n",
        "    return (train, test)                       \n",
        " \n",
        "\n",
        "def feature_extract(review):\n",
        "    \"\"\"\n",
        "    Generate a feature representation for a review\n",
        "    :param review: AmazonReview object\n",
        "    :return: dictionary of Boolean features\n",
        "    \"\"\"\n",
        "    return {word:True for word in review.words()}\n",
        "\n",
        "def get_training_test_data(categories=('book','dvd'),ratio=0.7,seed=candidateno):\n",
        "    \"\"\"\n",
        "    Get training and test data for a given pair of categories and ratio, pre-formatted for use with NB classifier\n",
        "    :param category: pair of categories of review corpus, two from [\"kitchen, \"dvd, \"book\", \"electronics\"]\n",
        "    :param ratio: proportion of data to use as training data\n",
        "    :return: pair of lists \n",
        "    \"\"\"\n",
        "    random.seed(candidateno)\n",
        "\n",
        "    train_data=[]\n",
        "    test_data=[]\n",
        "    for category in categories:\n",
        "      reader=AmazonReviewCorpusReader().category(category)    \n",
        "      train, test = split_data(reader.documents(),ratio=ratio)\n",
        "   \n",
        "      train_data+=[(feature_extract(review),category)for review in train]\n",
        "      test_data+=[(feature_extract(review),category)for review in test]\n",
        "    random.shuffle(train_data)\n",
        "    random.shuffle(test_data)\n",
        "\n",
        "    return train_data,test_data"
      ],
      "execution_count": null,
      "outputs": []
    },
    {
      "cell_type": "markdown",
      "metadata": {
        "id": "1N3LWwBYICPP"
      },
      "source": [
        "When you have run the cell below, your unique training and testing samples will be stored in `training_data` and `testing_data`"
      ]
    },
    {
      "cell_type": "code",
      "metadata": {
        "id": "HJLegkdPFUJA",
        "colab": {
          "base_uri": "https://localhost:8080/",
          "height": 122
        },
        "outputId": "c26a9bb2-f95a-4068-c80e-43f8f6003f0e"
      },
      "source": [
        "#do not change the code in this cell\n",
        "training_data,testing_data=get_training_test_data()\n",
        "print(\"The amount of training data is {}\".format(len(training_data)))\n",
        "print(\"The amount of testing data is {}\".format(len(testing_data)))\n",
        "print(\"The representation of a single data item is below\")\n",
        "print(training_data[0])\n",
        "print(testing_data[0])"
      ],
      "execution_count": null,
      "outputs": [
        {
          "output_type": "stream",
          "text": [
            "The amount of training data is 6526\n",
            "The amount of testing data is 2799\n",
            "The representation of a single data item is below\n",
            "({'Clint': True, 'Eastwood': True, \"'s\": True, '``': True, 'The': True, 'Eiger': True, 'Sanction': True, 'was': True, 'made': True, 'in': True, '1975': True, 'and': True, ',': True, 'at': True, 'that': True, 'time': True, 'an': True, 'excellent': True, 'action': True, 'thriller': True, '.': True, 'Viewing': True, 'it': True, 'again': True, 'recently': True, 'I': True, 'surprised': True, 'how': True, 'well': True, 'has': True, 'held': True, 'up': True, 'This': True, 'is': True, 'due': True, 'mostly': True, 'to': True, 'the': True, 'location': True, 'shoots': True, '-': True, 'filmed': True, 'Monument': True, 'Valley': True, 'Swiss': True, 'Alps': True, 'instead': True, 'of': True, 'on': True, 'a': True, 'Hollywood': True, 'soundstage': True, 'These': True, 'guys': True, 'really': True, 'went': True, 'there': True, 'those': True, 'climbing': True, 'sequences': True, 'for': True, 'real': True, '(': True, 'including': True, 'star': True, 'director': True, 'who': True, 'about': True, '45': True, ')': True, 'just': True, 'ca': True, \"n't\": True, 'be': True, 'faked': True, 'spy': True, 'story': True, 'also': True, 'pretty': True, 'good': True, 'supporting': True, 'performance': True, 'by': True, 'Jack': True, 'Cassidy': True, 'Vonetta': True, 'McGee': True, 'George': True, 'Kennedy': True, 'lend': True, 'solid': True, 'support': True, 'Also': True, 'John': True, 'Williams': True, \"'\": True, 'pre-Star': True, 'Wars': True, 'score': True, 'hauntingly': True, 'jazzy': True, 'suspenseful': True, 'Check': True, 'this': True, 'one': True, 'out': True}, 'dvd')\n",
            "({'Without': True, 'the': True, 'generosity': True, 'and': True, 'support': True, 'of': True, 'comedian': True, 'Roscoe': True, '``': True, 'Fatty': True, 'Arbuckle': True, ',': True, 'cinematic': True, 'art': True, 'Buster': True, 'Keaton': True, 'may': True, 'never': True, 'have': True, 'blossomed': True, '.': True, 'The': True, '12': True, 'existing': True, 'shorts': True, 'in': True, 'Best': True, 'Arbuckle/Keaton': True, 'Collection': True, 'display': True, \"'s\": True, 'comedic': True, 'skill': True, 'while': True, 'revealing': True, 'astonishing': True, 'speed': True, 'which': True, 'co-star': True, 'mastered': True, 'medium': True, 'After': True, '15': True, 'two-reelers': True, 'from': True, '1917': True, 'to': True, '1920': True, 'was': True, 'ready': True, 'fly': True, 'solo': True, 'with': True, 'a': True, 'remarkable': True, 'string': True, 'masterpieces': True, 'Sadly': True, 'subsequent': True, 'career': True, 'features': True, 'unjustly': True, 'destroyed': True, 'by': True, '1921': True, 'scandal': True, 'yet': True, 'he': True, 'persevered': True, 'made': True, 'an': True, 'all-too-brief': True, 'comeback': True, 'before': True, 'his': True, 'untimely': True, 'death': True, '1933': True, 'Admittedly': True, 'not': True, 'all': True, 'Arbuckle-Keaton': True, 'are': True, 'gems': True, 'but': True, 'Butcher': True, 'Boy': True, '(': True, ')': True, 'Back': True, 'Stage': True, '1919': True, 'Garage': True, 'remain': True, 'memorable': True, 'comedies': True, 'that': True, 'showcase': True, 'effortless': True, 'rapport': True, 'Despite': True, 'some': True, 'unfortunate': True, 'racial': True, 'humor': True, 'Out': True, 'West': True, '1918': True, 'is': True, 'wild': True, 'fast-paced': True, 'romp': True, 'satirizes': True, 'Westerns': True, 'William': True, 'S.': True, 'Hart': True, 'Though': True, 'prints': True, 'vary': True, 'quality': True, 'one': True, 'must': True, 'be': True, 'grateful': True, 'they': True, 'exist': True, 'at': True, 'represents': True, 'valuable': True, 'chapter': True, 'history': True, 'film': True, 'comedy': True}, 'dvd')\n"
          ],
          "name": "stdout"
        }
      ]
    },
    {
      "cell_type": "markdown",
      "metadata": {
        "id": "5f6h0ON9I4NT"
      },
      "source": [
        "1) Use your training data to find\n",
        "a) the top 20 words which occur more frequently in book reviews than in dvd reviews\n",
        "b) the top 20 words which occur more frequently in dvd reviews than book reviews\n",
        "Discuss what pre-processing techniques you have applied (or not applied) in answering this question, and why. [20%]"
      ]
    },
    {
      "cell_type": "markdown",
      "metadata": {
        "id": "ACyRWvvZt-54"
      },
      "source": [
        "To pre-process the training data, I case normalised the words so that words with the same characters in the same sequence, will be counted as the same word for the word count. Lowering the case also allows the removal of stopwords which have capitalizations in the original data. \n",
        "I decided to remove the stopwords as this significantly reduces the size of the data, and allows for a more meaningful comparison between the words in the book and dvd data. \n",
        "I decided not to use stemming or lemmatization to save processing time."
      ]
    },
    {
      "cell_type": "code",
      "metadata": {
        "id": "1haUtqGXnwWZ"
      },
      "source": [
        "stop = set(stopwords.words('english'))\n",
        "import collections\n",
        "import math\n",
        "from nltk.probability import FreqDist\n",
        "\n",
        "def normalise(data):  \n",
        "  normalised =[] #Create a list for the normalised training data\n",
        "\n",
        "  for (dictionary,label) in data: #Iterate through the tuples in the training data\n",
        "    lowered = {} #Create a dictionary for the lowered \n",
        "    for (k,v) in dictionary.items(): #Iterate though the key,value pairs in the dictionary\n",
        "      if k.isalpha() and not k.lower() in stop: #If the key is alphabetic and not a stopword, add the lowered entry to lowered dictionary\n",
        "       lowered[k.lower()] = v \n",
        "\n",
        "    normalised.append((lowered, label)) #Add each of the lowered entries to the list 'normalised'\n",
        "  return normalised\n",
        "\n",
        "normalised_train = normalise(training_data)\n",
        "\n"
      ],
      "execution_count": null,
      "outputs": []
    },
    {
      "cell_type": "code",
      "metadata": {
        "id": "muHAF98WZHBJ"
      },
      "source": [
        "def seperate_data(data):\n",
        "  dvd = [] #Create a list for the dvd training data\n",
        "  book = []#Create a list for the book training data\n",
        "  for i in range(len(data)): #Iterate through the entries in the normalised and lowered data\n",
        "    if data[i][1] == \"book\": #If the label for the entry is \"book\", add the words from the entry to the book data\n",
        "      book += data[i][0].keys()\n",
        "      \n",
        "    if data[i][1] == \"dvd\":  #If the label for the entry is \"dvd\", add the words from the entry to the dvd data  \n",
        "      dvd += data[i][0].keys()   \n",
        "  return dvd, book\n",
        "\n",
        "dvd_train, book_train = seperate_data(normalised_train) #Seperate the training data into lists for each of the categories\n"
      ],
      "execution_count": null,
      "outputs": []
    },
    {
      "cell_type": "code",
      "metadata": {
        "id": "LwR8PY1djPh4"
      },
      "source": [
        "def seperate_test_data(data):\n",
        "  dvd = [] #Create a list for the dvd test data\n",
        "  book = [] #Create a list for the book test data\n",
        "  for i in range(len(data)): #Iterate through the test data\n",
        "    if data[i][1] == \"book\": #If the label for an entry is \"book\", add the entry to the book testing data\n",
        "      book.append(data[i])\n",
        "    if data[i][1] == \"dvd\": #If the label for an entry is \"dvd\", add the entry to the dvd testing data\n",
        "      dvd.append(data[i])\n",
        "  return dvd, book\n",
        "\n"
      ],
      "execution_count": null,
      "outputs": []
    },
    {
      "cell_type": "code",
      "metadata": {
        "id": "xOCCcZDOKirm",
        "colab": {
          "base_uri": "https://localhost:8080/",
          "height": 71
        },
        "outputId": "393e646e-fe58-4a45-ad37-e91155154251"
      },
      "source": [
        "def most_frequent_words(freq1, freq2, k):\n",
        "  difference = [(w, f-freq2.get(w, 0)) for (w,f) in freq1.most_common()] #Create a list of tuples, where the first item is the word, and the second is the difference in frequency for that word\n",
        "  sorteddiff = sorted(difference, key=lambda pair:pair[1], reverse=True) #Sort the list into descending order\n",
        "  normalised=[w.lower() for (w,f) in sorteddiff] \n",
        "  filtered=[w for w in normalised if w.isalpha() and w not in stop] #Remove the number count for each word, check all words are alphabetic and do not include stopwords\n",
        "  return filtered[:k] #Return the top 20 tuples in the list\n",
        "\n",
        "dvdfreq = FreqDist(dvd_train) #Create a freq dist given the dvd data\n",
        "bookfreq = FreqDist(book_train) #Create a freq dist given the book data\n",
        "\n",
        "\n",
        "print(most_frequent_words(dvdfreq, bookfreq, 20))\n",
        "print(most_frequent_words(bookfreq, dvdfreq, 20))"
      ],
      "execution_count": null,
      "outputs": [
        {
          "output_type": "stream",
          "text": [
            "['movie', 'film', 'dvd', 'watch', 'one', 'see', 'like', 'great', 'movies', 'good', 'seen', 'watching', 'love', 'get', 'films', 'really', 'show', 'scenes', 'acting', 'best']\n",
            "['book', 'read', 'books', 'reading', 'author', 'reader', 'written', 'writing', 'pages', 'information', 'novel', 'page', 'readers', 'chapter', 'authors', 'novels', 'research', 'chapters', 'ideas', 'published']\n"
          ],
          "name": "stdout"
        }
      ]
    },
    {
      "cell_type": "markdown",
      "metadata": {
        "id": "C1cOLSAKNHc9"
      },
      "source": [
        "(a) The top 20 words which occur more frequently in book reviews than in dvd reviews are: book, read, books, reading, author, reader, written , writing, pages, information, novel, page, readers, chapter, authors, novels, research, chapters, ideas, published\n",
        "\n",
        "\n",
        "(b) The top 20 words which occur more frequently in dvd reviews than in book reviews are: movie, film, dvd, watch, one, see, like, great, movies, good, seen, watching, love, get, films, really, show, scenes, acting, best"
      ]
    },
    {
      "cell_type": "markdown",
      "metadata": {
        "id": "TApOQE6vND20"
      },
      "source": [
        "2) Design, build and test a word list classifier to classify reviews as being from the book domain or from the dvd domain.  Make sure you discuss 1) how you decide the lengths and contents of the word lists and ii) accuracy, precision and recall of your final classifier.[30%]"
      ]
    },
    {
      "cell_type": "markdown",
      "metadata": {
        "id": "HyPivenT9oLM"
      },
      "source": [
        "i) To decide the contents of the word lists, I used the most_frequent_words method, which finds the top 'k' more frequent words from each class, book or dvd. This means that words which may appear very frequently in both classes, but are not related to the class, are not used as identifiers for either class. I chose a word list length of 10 because this produced pretty reasonable scores for accuracy, precision, recall and F1 score, without a long running time. \n",
        "\n",
        "ii) The accuracy, precision, recall is shown by running the last cell of this question. The high numbers calculated by the confusion matrix, show a small proportion of false positives and false negatives when classifying a document into 'book' or 'dvd' categories, showing the word list classifier built is pretty effective. "
      ]
    },
    {
      "cell_type": "code",
      "metadata": {
        "id": "BThDMrcmODJy"
      },
      "source": [
        "from nltk.classify.api import ClassifierI\n",
        "import random\n",
        "\n",
        "class SimpleClassifier(ClassifierI): \n",
        "\n",
        "    def __init__(self, book, dvd): #The classifier is initialised with a list of words labelled 'book' and a list labelled 'dvd'\n",
        "        self._book = book \n",
        "        self._dvd = dvd \n",
        "\n",
        "    def classify(self, review): #Classify method takes a review to be classified. A positive score indicates the review is about Books, a negative score indicates the review is about DVDs\n",
        "        score = 0 \n",
        "        \n",
        "        for word in review.keys(): #Iterate through the list of words given \n",
        "          if word in self._book: \n",
        "            score+=1 #If the current word in the list to be classified is found in the list of labelled 'book data', add one. \n",
        "          if word in self._dvd: \n",
        "            score-=1 #If the current word in the list to be classified is found in the list of labelled 'dvd' data, subtract one\n",
        "        \n",
        "        if score < 0: return \"dvd\" \n",
        "        if score > 0: return \"book\"\n",
        "        if score == 0: return (random.choice([\"dvd\", \"book\"])) #If the score is 0, either label is selected randomly\n",
        "\n",
        "    def batch_classify(self, reviews): \n",
        "        return [self.classify(review.words() if hasattr(review, 'words') else review) for review in reviews]\n",
        "\n",
        "    def labels(self): \n",
        "        return (\"book\", \"dvd\")\n",
        "\n",
        "\n",
        "class SimpleClassifier2(SimpleClassifier): #Another class of classifier which inherits from the previous classifier, but takes an additional parameter k, which defines the length of the word list to classify\n",
        "\n",
        "    def __init__(self, k):\n",
        "        self._k=k\n",
        "\n",
        "    def train(self, book_training, dvd_training):\n",
        "        book_freqdist=FreqDist(book_training) #Create a frequency distribution for the training data labelled book\n",
        "        dvd_freqdist=FreqDist(dvd_training) #Create a frequency distribution for the training data labelled dvd\n",
        "        self._book=most_frequent_words(book_freqdist, dvd_freqdist, self._k) #Assign the top k most frequent words from book over dvd to the book word list\n",
        "        self._dvd=most_frequent_words(dvd_freqdist, book_freqdist, self._k) #Assign the top k most frequent words from dvd over book to the dvd word list\n",
        "      \n",
        "      \n",
        "\n",
        "\n"
      ],
      "execution_count": null,
      "outputs": []
    },
    {
      "cell_type": "code",
      "metadata": {
        "id": "8DVoLlwD3Wjt"
      },
      "source": [
        "def classifier_evaluate(classifier,test_data):\n",
        "    \n",
        "    docs,goldstandard=zip(*test_data) #Convert the list of pairs of words and labels, into a pair of lists, where the index of each list corresponds to the index in the other\n",
        "    predictions=classifier.batch_classify(docs) #Batch classify all the documents\n",
        "    #print(predictions)\n",
        "    correct=0\n",
        "    for (prediction,gold) in zip(predictions,goldstandard): #Iterate through the lists, checking if the prediction matches the given label (goldstandard)\n",
        "        if prediction ==gold:\n",
        "            correct+=1 #Add 1 for each accurate prediction\n",
        "    return correct/len(test_data) #Find the proportion of accurate predictions\n",
        "\n",
        "class ConfusionMatrix:\n",
        "  def __init__(self, predictions, goldstandard, classes=(\"dvd\",\"book\")):\n",
        "\n",
        "    (self.c1,self.c2)=classes\n",
        "    self.TP=0\n",
        "    self.FP=0\n",
        "    self.FN=0\n",
        "    self.TN=0\n",
        "    for (prediction,gold) in zip(predictions,goldstandard):\n",
        "        if gold==self.c1:\n",
        "            if prediction==self.c1:\n",
        "                self.TP+=1\n",
        "            else:\n",
        "                self.FN+=1\n",
        "        \n",
        "        elif prediction==self.c1:\n",
        "            self.FP+=1\n",
        "        else:\n",
        "            self.TN+=1\n",
        "        \n",
        "    \n",
        "  def precision(self):\n",
        "    \n",
        "    p = self.TP / (self.TP + self.FP)\n",
        "    \n",
        "    return p\n",
        "  \n",
        "  def recall(self):\n",
        "    r= self.TP / (self.TP + self.FN)\n",
        "    \n",
        "    return r\n",
        "  \n",
        "  def f1(self):\n",
        "    f1= 2 * (precision * recall ) / (precision + recall )\n",
        "      \n",
        "    return f1 \n",
        "\n"
      ],
      "execution_count": null,
      "outputs": []
    },
    {
      "cell_type": "code",
      "metadata": {
        "id": "LiaeYjhB3ZqG",
        "colab": {
          "base_uri": "https://localhost:8080/",
          "height": 51
        },
        "outputId": "ef3a96ca-2d4e-48ff-fd0e-d05122b0ae48"
      },
      "source": [
        "normalised_test = normalise(testing_data)\n",
        "dvd_test, book_test = seperate_test_data(normalised_test)\n",
        "test_data=dvd_test+book_test\n",
        "\n",
        "\n",
        "test_classifier = SimpleClassifier2(10)\n",
        "test_classifier.train(book_train, dvd_train)\n",
        "accuracy = classifier_evaluate(test_classifier, test_data)\n",
        "#print(accuracy)\n",
        "\n",
        "docs,labels = zip(*testing_data)\n",
        "sent_cm=ConfusionMatrix(test_classifier.batch_classify(docs), labels)\n",
        "precision = sent_cm.precision()\n",
        "recall = sent_cm.recall()\n",
        "f1score = sent_cm.f1()\n",
        "\n",
        "#print(precision)\n",
        "#print(recall)\n",
        "#print(f1score)\n",
        "\n",
        "import pandas as pd\n",
        "\n",
        "data = {'Accuracy':  [accuracy],\n",
        "        'Precision': [precision],\n",
        "        'Recall': [recall],\n",
        "        'F1 Score': [f1score],   \n",
        "        }\n",
        "\n",
        "df = pd.DataFrame (data, columns = ['Accuracy','Precision','Recall', 'F1 Score'], index = ['Word List Classifier'])\n",
        "\n",
        "print (df)\n"
      ],
      "execution_count": null,
      "outputs": [
        {
          "output_type": "stream",
          "text": [
            "                      Accuracy  Precision    Recall  F1 Score\n",
            "Word List Classifier   0.85602   0.831956  0.916262  0.872076\n"
          ],
          "name": "stdout"
        }
      ]
    },
    {
      "cell_type": "markdown",
      "metadata": {
        "id": "LIS9UpmJNEAp"
      },
      "source": [
        "3) Compare the performance of your word list classifier with a Naive Bayes classifier (e.g., from NLTK).  Make sure you discuss the results. [20%]"
      ]
    },
    {
      "cell_type": "markdown",
      "metadata": {
        "id": "EqkuSXZx-SSm"
      },
      "source": [
        "For the Naive Bayes classifier, I used the one developed in the labs as I was more familiar with it. Unsurprisingly, the NB classifier had higher precision, recall, accuracy, and F1 score compared to a simple word list classifier. This is because it uses probability to decide whether a certain document is in either the 'book' or 'dvd' category, rather than using words that have been seen before to classify.\n",
        "However, despite NB Classifier showing higher scores in all 4 measures of performance, it is important to note that the word list classifier is still pretty effective, achieving higher than 0.8 for accuracy, precision, recall and f1. This means that out of the predictions made by the classifier, a high proportion are correct (true positives or true negatives)"
      ]
    },
    {
      "cell_type": "code",
      "metadata": {
        "id": "3YUiYKyrOSA0"
      },
      "source": [
        "class NBClassifier:\n",
        "    \n",
        "    def __init__(self):\n",
        "        \n",
        "        pass\n",
        "    \n",
        "    def _set_known_vocabulary(self,training_data):\n",
        "        \n",
        "        known=[]\n",
        "        for doc,label in training_data:\n",
        "            known+=list(doc.keys())\n",
        "        self.known= set(known)\n",
        "    \n",
        "    def _set_priors(self,training_data):\n",
        "        \n",
        "        priors={}\n",
        "        for (doc,label) in training_data:\n",
        "            priors[label]=priors.get(label,0)+1\n",
        "        total=sum(priors.values())\n",
        "        for key,value in priors.items():\n",
        "            priors[key]=value/total\n",
        "        self.priors=priors\n",
        "        \n",
        "    def _set_cond_probs(self,training_data):       \n",
        "        conds={}\n",
        "        for(doc,label) in training_data:\n",
        "            classcond=conds.get(label,{})\n",
        "            for word in doc.keys():\n",
        "                classcond[word]=classcond.get(word,0)+1\n",
        "        \n",
        "            conds[label]=classcond\n",
        "    \n",
        "        for label, classcond in conds.items():\n",
        "            for word in self.known:\n",
        "        \n",
        "                classcond[word]=classcond.get(word,0)+1\n",
        "            conds[label]=classcond\n",
        "            \n",
        "        for label,dist in conds.items():\n",
        "            total=sum(dist.values())\n",
        "            conds[label]={key:value/total for (key,value) in dist.items()}\n",
        "        \n",
        "        self.conds=conds\n",
        "    \n",
        "    def train(self,training_data):\n",
        "        self._set_known_vocabulary(training_data)\n",
        "        self._set_priors(training_data)\n",
        "        self._set_cond_probs(training_data)\n",
        "    \n",
        "    def classify(self,doc):\n",
        "        \n",
        "        doc_probs={key:math.log(value) for (key,value) in self.priors.items()}\n",
        "        for word in doc.keys():\n",
        "            if word in self.known:\n",
        "                doc_probs={classlabel:sofar+math.log(self.conds[classlabel].get(word,0)) for (classlabel,sofar) in doc_probs.items()}\n",
        "\n",
        "        highprob=max(doc_probs.values())\n",
        "        classes=[c for c in doc_probs.keys() if doc_probs[c]==highprob]\n",
        "        return random.choice(classes)\n",
        "    \n",
        "    def batch_classify(self,docs):\n",
        "        return [self.classify(doc) for doc in docs]\n",
        " "
      ],
      "execution_count": null,
      "outputs": []
    },
    {
      "cell_type": "code",
      "metadata": {
        "id": "x5OkeMGN7zMY"
      },
      "source": [
        "nb_classifier = NBClassifier()\n",
        "nb_classifier.train(training_data)\n",
        "nb_accuracy = classifier_evaluate(nb_classifier, testing_data)\n",
        "\n",
        "nb_cm = ConfusionMatrix(nb_classifier.batch_classify(docs), labels)\n",
        "nb_precision = nb_cm.precision()\n",
        "nb_recall = nb_cm.recall()\n",
        "nb_f1score = 2 * (nb_precision * nb_recall) / (nb_precision + nb_recall) \n",
        "\n",
        "\n",
        "\n",
        "\n"
      ],
      "execution_count": null,
      "outputs": []
    },
    {
      "cell_type": "code",
      "metadata": {
        "id": "ee8_NzW-7zQ8",
        "colab": {
          "base_uri": "https://localhost:8080/",
          "height": 68
        },
        "outputId": "591a0cda-c340-433c-b016-87d858bdd3a5"
      },
      "source": [
        "data = {'Accuracy':  [accuracy, nb_accuracy],\n",
        "        'Precision': [precision, nb_precision],\n",
        "        'Recall': [recall, nb_recall],\n",
        "        'F1 Score': [f1score, nb_f1score],   \n",
        "        }\n",
        "\n",
        "df = pd.DataFrame (data, columns = ['Accuracy','Precision','Recall', 'F1 Score'], index = ['Word List Classifier', 'Naive Bayes Classifier'])\n",
        "\n",
        "print (df)"
      ],
      "execution_count": null,
      "outputs": [
        {
          "output_type": "stream",
          "text": [
            "                        Accuracy  Precision    Recall  F1 Score\n",
            "Word List Classifier    0.856020   0.831956  0.916262  0.872076\n",
            "Naive Bayes Classifier  0.929618   0.919122  0.965413  0.941699\n"
          ],
          "name": "stdout"
        }
      ]
    },
    {
      "cell_type": "markdown",
      "metadata": {
        "id": "LGDXaVDqOSfY"
      },
      "source": [
        "4) Design and carry out an experiment into the impact of the amount of training data on each of these classifiers.  Make sure you describe design decisions in your experiment, include a graph of your results and discuss your conclusions. [30%] "
      ]
    },
    {
      "cell_type": "markdown",
      "metadata": {
        "id": "-XE4iPI-Gz5G"
      },
      "source": [
        "First we need a word list classifier which takes data in the same format as the Naive Bayes classifier so that we can easily compare them. Then, using a range of sample sizes for the training data and generating a new sample for each time, we can calculate the accuracy, precision and recall for the two classifiers, NB and Word List, and find an average of these scores. \n",
        "\n",
        "When doing this last question, I have noticed that suddenly the scores for the word list classifier are drastically lower than in other questions. I have tried to find the source of this error but have not been able to. Therefore I have tried to show that I understand the intent of this question, how to calculate, compare and display the results of the precision, recall and accuracy in a suitable way. \n",
        "\n",
        "From the results I do have, the precision and accuracy of the Naive Bayes classifier very quickly increases with the amount of training data, whereas the Word List classifier doesnt show much increase with the training data. I think this is because where the WLC has more words, more of these are likely to be used in other categories of reviews, whereas NB uses the higher training sample to find the probabilities of words being in a certain category, and hence is more likely to correctly predict the class of a document. "
      ]
    },
    {
      "cell_type": "code",
      "metadata": {
        "id": "W9HGx26SGyRH"
      },
      "source": [
        "from functools import reduce\n",
        "class WordListClassifier(SimpleClassifier):\n",
        "    #this WordListClassifier uses the same feature representation as the NB classifier\n",
        "    #i.e., a multivariate Bernouilli event model where multiple occurrences of the same word in the same document are not counted.\n",
        "        \n",
        "    def __init__(self,k):\n",
        "        self._labels=[\"book\",\"dvd\"]\n",
        "        self.k=k\n",
        "        \n",
        "    def get_all_words(self,docs):\n",
        "        return reduce(lambda words,doc: words + list(doc.keys()), docs, [])\n",
        "    \n",
        "    def train(self,training_data):\n",
        "        book_train=[doc for (doc,label) in normalise(training_data) if label == self.labels()[0]]\n",
        "        dvd_train=[doc for (doc,label) in normalise(training_data) if label == self.labels()[1]]\n",
        "        \n",
        "        book_freqdist=FreqDist(self.get_all_words(book_train))\n",
        "        dvd_freqdist=FreqDist(self.get_all_words(dvd_train))\n",
        "        \n",
        "        self._book=most_frequent_words(book_freqdist, dvd_freqdist, self.k)\n",
        "        self._dvd=most_frequent_words(book_freqdist, dvd_freqdist, self.k)"
      ],
      "execution_count": null,
      "outputs": []
    },
    {
      "cell_type": "code",
      "metadata": {
        "id": "HgXiP6We70j0",
        "colab": {
          "base_uri": "https://localhost:8080/",
          "height": 526
        },
        "outputId": "fbc2f679-fa0f-45b9-9560-e92cdce55282"
      },
      "source": [
        "word_list_size = 50\n",
        "classifiers={\"Word List\":WordListClassifier(word_list_size),\n",
        "             \"Naive Bayes\":NBClassifier()}\n",
        "use=[\"Word List\",\"Naive Bayes\"]\n",
        "number_of_runs=3\n",
        "\n",
        "results={}\n",
        "for key in classifiers.keys():\n",
        "  results[key]=0\n",
        "\n",
        "for i in range(number_of_runs):\n",
        "  training,testing=get_training_test_data()\n",
        "\n",
        "  for name,classifier in classifiers.items():\n",
        "    if name in use:\n",
        "      classifier.train(training)\n",
        "      accuracy=classifier_evaluate(classifier,testing)\n",
        "      print(\"The accuracy of {} classifier is {}\".format(name,accuracy))\n",
        "      results[name]=results[name]+(accuracy/number_of_runs)\n",
        "\n",
        "    \n",
        "\n",
        "df = pd.DataFrame(list(results.items()))\n",
        "display(df)\n",
        "ax = df.plot.bar(title=\"Experimental Results\",legend=False,x=0)\n",
        "ax.set_ylabel(\"Classifier Accuracy\")\n",
        "ax.set_xlabel(\"Classifier\")\n",
        "ax.set_ylim(0,1.0)"
      ],
      "execution_count": null,
      "outputs": [
        {
          "output_type": "stream",
          "text": [
            "The accuracy of Word List classifier is 0.49446230796713114\n",
            "The accuracy of Naive Bayes classifier is 0.9296177206145052\n",
            "The accuracy of Word List classifier is 0.49446230796713114\n",
            "The accuracy of Naive Bayes classifier is 0.9296177206145052\n"
          ],
          "name": "stdout"
        },
        {
          "output_type": "display_data",
          "data": {
            "text/html": [
              "<div>\n",
              "<style scoped>\n",
              "    .dataframe tbody tr th:only-of-type {\n",
              "        vertical-align: middle;\n",
              "    }\n",
              "\n",
              "    .dataframe tbody tr th {\n",
              "        vertical-align: top;\n",
              "    }\n",
              "\n",
              "    .dataframe thead th {\n",
              "        text-align: right;\n",
              "    }\n",
              "</style>\n",
              "<table border=\"1\" class=\"dataframe\">\n",
              "  <thead>\n",
              "    <tr style=\"text-align: right;\">\n",
              "      <th></th>\n",
              "      <th>0</th>\n",
              "      <th>1</th>\n",
              "    </tr>\n",
              "  </thead>\n",
              "  <tbody>\n",
              "    <tr>\n",
              "      <th>0</th>\n",
              "      <td>Word List</td>\n",
              "      <td>0.494462</td>\n",
              "    </tr>\n",
              "    <tr>\n",
              "      <th>1</th>\n",
              "      <td>Naive Bayes</td>\n",
              "      <td>0.929618</td>\n",
              "    </tr>\n",
              "  </tbody>\n",
              "</table>\n",
              "</div>"
            ],
            "text/plain": [
              "             0         1\n",
              "0    Word List  0.494462\n",
              "1  Naive Bayes  0.929618"
            ]
          },
          "metadata": {
            "tags": []
          }
        },
        {
          "output_type": "execute_result",
          "data": {
            "text/plain": [
              "(0.0, 1.0)"
            ]
          },
          "metadata": {
            "tags": []
          },
          "execution_count": 57
        },
        {
          "output_type": "display_data",
          "data": {
            "image/png": "[encoded data removed]",
            "text/plain": [
              "<Figure size 432x288 with 1 Axes>"
            ]
          },
          "metadata": {
            "tags": [],
            "needs_background": "light"
          }
        }
      ]
    },
    {
      "cell_type": "code",
      "metadata": {
        "id": "6ypOi_c-70p_",
        "colab": {
          "base_uri": "https://localhost:8080/",
          "height": 560
        },
        "outputId": "cf5a58c2-fdb1-4c36-86eb-49406e6159dd"
      },
      "source": [
        "word_list_size = 100\n",
        "classifiers={\"Word List\":WordListClassifier(word_list_size),\n",
        "             \"Naive Bayes\":NBClassifier()}\n",
        "use=[\"Word List\",\"Naive Bayes\"]\n",
        "number_of_runs=3\n",
        "\n",
        "results={} #Empty list for the results\n",
        "for key in classifiers.keys(): \n",
        "  results[key]=0\n",
        "\n",
        "for i in range(number_of_runs): \n",
        "  training,testing=get_training_test_data() #For each run, create a new sample of data\n",
        "\n",
        "  for name,classifier in classifiers.items(): #Iterate through the classifier items\n",
        "    if name in use:\n",
        "      classifier.train(training) #Train each classifier\n",
        "      senti_cm=ConfusionMatrix(classifier.batch_classify(docs),labels) #Create a confusion matrix for the current classifier\n",
        "      print(\"The precision of {} classifier is {}\".format(name,senti_cm.precision())) #Calculate the precision of the classifier\n",
        "      results[name]=results[name]+(senti_cm.precision()/number_of_runs) #Add the result to the list of results\n",
        "\n",
        "    \n",
        "\n",
        "df = pd.DataFrame(list(results.items())) #Display the results\n",
        "display(df)\n",
        "ax = df.plot.bar(title=\"Experimental Results\",legend=False,x=0)\n",
        "ax.set_ylabel(\"Classifier Precision\")\n",
        "ax.set_xlabel(\"Classifier\")\n",
        "ax.set_ylim(0,1.0)"
      ],
      "execution_count": null,
      "outputs": [
        {
          "output_type": "stream",
          "text": [
            "The precision of Word List classifier is 0.5847578347578347\n",
            "The precision of Naive Bayes classifier is 0.9191218948584633\n",
            "The precision of Word List classifier is 0.5847578347578347\n",
            "The precision of Naive Bayes classifier is 0.9191218948584633\n",
            "The precision of Word List classifier is 0.5847578347578347\n",
            "The precision of Naive Bayes classifier is 0.9191218948584633\n"
          ],
          "name": "stdout"
        },
        {
          "output_type": "display_data",
          "data": {
            "text/html": [
              "<div>\n",
              "<style scoped>\n",
              "    .dataframe tbody tr th:only-of-type {\n",
              "        vertical-align: middle;\n",
              "    }\n",
              "\n",
              "    .dataframe tbody tr th {\n",
              "        vertical-align: top;\n",
              "    }\n",
              "\n",
              "    .dataframe thead th {\n",
              "        text-align: right;\n",
              "    }\n",
              "</style>\n",
              "<table border=\"1\" class=\"dataframe\">\n",
              "  <thead>\n",
              "    <tr style=\"text-align: right;\">\n",
              "      <th></th>\n",
              "      <th>0</th>\n",
              "      <th>1</th>\n",
              "    </tr>\n",
              "  </thead>\n",
              "  <tbody>\n",
              "    <tr>\n",
              "      <th>0</th>\n",
              "      <td>Word List</td>\n",
              "      <td>0.584758</td>\n",
              "    </tr>\n",
              "    <tr>\n",
              "      <th>1</th>\n",
              "      <td>Naive Bayes</td>\n",
              "      <td>0.919122</td>\n",
              "    </tr>\n",
              "  </tbody>\n",
              "</table>\n",
              "</div>"
            ],
            "text/plain": [
              "             0         1\n",
              "0    Word List  0.584758\n",
              "1  Naive Bayes  0.919122"
            ]
          },
          "metadata": {
            "tags": []
          }
        },
        {
          "output_type": "execute_result",
          "data": {
            "text/plain": [
              "(0.0, 1.0)"
            ]
          },
          "metadata": {
            "tags": []
          },
          "execution_count": 47
        },
        {
          "output_type": "display_data",
          "data": {
            "image/png": "[encoded data removed]",
            "text/plain": [
              "<Figure size 432x288 with 1 Axes>"
            ]
          },
          "metadata": {
            "tags": [],
            "needs_background": "light"
          }
        }
      ]
    },
    {
      "cell_type": "code",
      "metadata": {
        "id": "FEFj6xr570sf",
        "colab": {
          "base_uri": "https://localhost:8080/",
          "height": 323
        },
        "outputId": "8d02c51d-2634-48f6-c39c-18463b056275"
      },
      "source": [
        "from random import sample\n",
        "word_list_size = 100\n",
        "classifiers={\"Word List\":WordListClassifier(word_list_size),\n",
        "             \"Naive Bayes\":NBClassifier()}\n",
        "use=[\"Word List\",\"Naive Bayes\"]\n",
        "sample_sizes=[1,50,500]\n",
        "number_of_runs=2\n",
        "\n",
        "results=[]\n",
        "\n",
        "\n",
        "for size in sample_sizes: #Use different sample sizes to evaluate the classifiers, for each of these sample sizes\n",
        "  for i in range(number_of_runs): #For runs\n",
        "    training,testing=get_training_test_data() #Get a new sample\n",
        "    training_sample=sample(training,size) #Randomise the sample\n",
        "    res=[]\n",
        "    for name,classifier in classifiers.items(): #For each classifier\n",
        "      \n",
        "      if name in use: #If the name in the classifier list\n",
        "        classifier.train(training_sample) #Train classifier\n",
        "        accuracy=classifier_evaluate(classifier,testing) #Evaluate the accuracy\n",
        "        print(\"The accuracy of {} classifier with training sample size {} is {}\".format(name,size, accuracy))\n",
        "        res.append(accuracy) #Add the accuracy to list of results\n",
        "    results.append([size]+res) #Add the result along with the sample size for each results to final results\n",
        "\n",
        "    \n",
        "results"
      ],
      "execution_count": null,
      "outputs": [
        {
          "output_type": "stream",
          "text": [
            "The accuracy of Word List classifier with training sample size 1 is 0.4841014648088603\n",
            "The accuracy of Naive Bayes classifier with training sample size 1 is 0.41121829224723117\n",
            "The accuracy of Word List classifier with training sample size 1 is 0.4841014648088603\n",
            "The accuracy of Naive Bayes classifier with training sample size 1 is 0.41121829224723117\n",
            "The accuracy of Word List classifier with training sample size 50 is 0.49231868524473027\n",
            "The accuracy of Naive Bayes classifier with training sample size 50 is 0.6780993211861379\n",
            "The accuracy of Word List classifier with training sample size 50 is 0.49231868524473027\n",
            "The accuracy of Naive Bayes classifier with training sample size 50 is 0.6780993211861379\n",
            "The accuracy of Word List classifier with training sample size 500 is 0.4976777420507324\n",
            "The accuracy of Naive Bayes classifier with training sample size 500 is 0.872454448017149\n",
            "The accuracy of Word List classifier with training sample size 500 is 0.4976777420507324\n",
            "The accuracy of Naive Bayes classifier with training sample size 500 is 0.872454448017149\n"
          ],
          "name": "stdout"
        },
        {
          "output_type": "execute_result",
          "data": {
            "text/plain": [
              "[[1, 0.4841014648088603, 0.41121829224723117],\n",
              " [1, 0.4841014648088603, 0.41121829224723117],\n",
              " [50, 0.49231868524473027, 0.6780993211861379],\n",
              " [50, 0.49231868524473027, 0.6780993211861379],\n",
              " [500, 0.4976777420507324, 0.872454448017149],\n",
              " [500, 0.4976777420507324, 0.872454448017149]]"
            ]
          },
          "metadata": {
            "tags": []
          },
          "execution_count": 58
        }
      ]
    },
    {
      "cell_type": "code",
      "metadata": {
        "id": "Fb0CIH94UjXh",
        "colab": {
          "base_uri": "https://localhost:8080/",
          "height": 522
        },
        "outputId": "f770bd9a-fc07-4a4a-c1f8-c22b3dba410b"
      },
      "source": [
        "df = pd.DataFrame(results,columns=[\"Sample Size\",\"Word List Accuracy\",\"NB Accuracy\"])\n",
        "display(df)\n",
        "ax = df.plot(kind=\"bar\",title=\"Experimental Results\",x=\"sample size\")"
      ],
      "execution_count": null,
      "outputs": [
        {
          "output_type": "display_data",
          "data": {
            "text/html": [
              "<div>\n",
              "<style scoped>\n",
              "    .dataframe tbody tr th:only-of-type {\n",
              "        vertical-align: middle;\n",
              "    }\n",
              "\n",
              "    .dataframe tbody tr th {\n",
              "        vertical-align: top;\n",
              "    }\n",
              "\n",
              "    .dataframe thead th {\n",
              "        text-align: right;\n",
              "    }\n",
              "</style>\n",
              "<table border=\"1\" class=\"dataframe\">\n",
              "  <thead>\n",
              "    <tr style=\"text-align: right;\">\n",
              "      <th></th>\n",
              "      <th>sample size</th>\n",
              "      <th>word list accuracy</th>\n",
              "      <th>NB accuracy</th>\n",
              "    </tr>\n",
              "  </thead>\n",
              "  <tbody>\n",
              "    <tr>\n",
              "      <th>0</th>\n",
              "      <td>1</td>\n",
              "      <td>0.484101</td>\n",
              "      <td>0.411218</td>\n",
              "    </tr>\n",
              "    <tr>\n",
              "      <th>1</th>\n",
              "      <td>1</td>\n",
              "      <td>0.484101</td>\n",
              "      <td>0.411218</td>\n",
              "    </tr>\n",
              "    <tr>\n",
              "      <th>2</th>\n",
              "      <td>50</td>\n",
              "      <td>0.492319</td>\n",
              "      <td>0.678099</td>\n",
              "    </tr>\n",
              "    <tr>\n",
              "      <th>3</th>\n",
              "      <td>50</td>\n",
              "      <td>0.492319</td>\n",
              "      <td>0.678099</td>\n",
              "    </tr>\n",
              "    <tr>\n",
              "      <th>4</th>\n",
              "      <td>500</td>\n",
              "      <td>0.497678</td>\n",
              "      <td>0.872454</td>\n",
              "    </tr>\n",
              "    <tr>\n",
              "      <th>5</th>\n",
              "      <td>500</td>\n",
              "      <td>0.497678</td>\n",
              "      <td>0.872454</td>\n",
              "    </tr>\n",
              "  </tbody>\n",
              "</table>\n",
              "</div>"
            ],
            "text/plain": [
              "   sample size  word list accuracy  NB accuracy\n",
              "0            1            0.484101     0.411218\n",
              "1            1            0.484101     0.411218\n",
              "2           50            0.492319     0.678099\n",
              "3           50            0.492319     0.678099\n",
              "4          500            0.497678     0.872454\n",
              "5          500            0.497678     0.872454"
            ]
          },
          "metadata": {
            "tags": []
          }
        },
        {
          "output_type": "display_data",
          "data": {
            "image/png": "[encoded data removed]",
            "text/plain": [
              "<Figure size 432x288 with 1 Axes>"
            ]
          },
          "metadata": {
            "tags": [],
            "needs_background": "light"
          }
        }
      ]
    },
    {
      "cell_type": "code",
      "metadata": {
        "id": "X2yMamcZW2zS",
        "colab": {
          "base_uri": "https://localhost:8080/",
          "height": 368
        },
        "outputId": "4b7d4d62-d9cf-4ecc-ed1c-a9d69f43aaa4"
      },
      "source": [
        "sample_sizes=[1,50,500]\n",
        "number_of_runs=2\n",
        "\n",
        "results2=[]\n",
        "\n",
        "\n",
        "for size in sample_sizes: #Use different sample sizes to evaluate the classifiers, for each of these sample sizes\n",
        "  for i in range(number_of_runs): #For runs\n",
        "    training,testing=get_training_test_data() #Get a new sample\n",
        "    training_sample=sample(training,size) #Randomise the sample\n",
        "    res2=[]\n",
        "    for name,classifier in classifiers.items(): #For each classifier\n",
        "      \n",
        "      if name in use: #If the name in the classifier list\n",
        "        classifier.train(training_sample) #Train classifier\n",
        "        senti_cm=ConfusionMatrix(classifier.batch_classify(docs),labels) #Create a confusion matrix for the current classifier\n",
        "        precision2 = senti_cm.precision()\n",
        "        print(\"The precision of {} classifier is {}\".format(name,precision2)) #Calculate the precision of the classifier\n",
        "        res2.append(precision2) #Add the prescision to list of results\n",
        "    results2.append([size]+res2) #Add the result along with the sample size for each results to final results\n",
        "\n",
        "    \n",
        "results2"
      ],
      "execution_count": null,
      "outputs": [
        {
          "output_type": "stream",
          "text": [
            "The precision of Word List classifier is 0.5739130434782609\n"
          ],
          "name": "stdout"
        },
        {
          "output_type": "error",
          "ename": "ZeroDivisionError",
          "evalue": "ignored",
          "traceback": [
            "\u001b[0;31m---------------------------------------------------------------------------\u001b[0m",
            "\u001b[0;31mZeroDivisionError\u001b[0m                         Traceback (most recent call last)",
            "\u001b[0;32m<ipython-input-60-1aec1b52c3ce>\u001b[0m in \u001b[0;36m<module>\u001b[0;34m()\u001b[0m\n\u001b[1;32m     15\u001b[0m         \u001b[0mclassifier\u001b[0m\u001b[0;34m.\u001b[0m\u001b[0mtrain\u001b[0m\u001b[0;34m(\u001b[0m\u001b[0mtraining_sample\u001b[0m\u001b[0;34m)\u001b[0m \u001b[0;31m#Train classifier\u001b[0m\u001b[0;34m\u001b[0m\u001b[0;34m\u001b[0m\u001b[0m\n\u001b[1;32m     16\u001b[0m         \u001b[0msenti_cm\u001b[0m\u001b[0;34m=\u001b[0m\u001b[0mConfusionMatrix\u001b[0m\u001b[0;34m(\u001b[0m\u001b[0mclassifier\u001b[0m\u001b[0;34m.\u001b[0m\u001b[0mbatch_classify\u001b[0m\u001b[0;34m(\u001b[0m\u001b[0mdocs\u001b[0m\u001b[0;34m)\u001b[0m\u001b[0;34m,\u001b[0m\u001b[0mlabels\u001b[0m\u001b[0;34m)\u001b[0m \u001b[0;31m#Create a confusion matrix for the current classifier\u001b[0m\u001b[0;34m\u001b[0m\u001b[0;34m\u001b[0m\u001b[0m\n\u001b[0;32m---> 17\u001b[0;31m         \u001b[0mprecision2\u001b[0m \u001b[0;34m=\u001b[0m \u001b[0msenti_cm\u001b[0m\u001b[0;34m.\u001b[0m\u001b[0mprecision\u001b[0m\u001b[0;34m(\u001b[0m\u001b[0;34m)\u001b[0m\u001b[0;34m\u001b[0m\u001b[0;34m\u001b[0m\u001b[0m\n\u001b[0m\u001b[1;32m     18\u001b[0m         \u001b[0mprint\u001b[0m\u001b[0;34m(\u001b[0m\u001b[0;34m\"The precision of {} classifier is {}\"\u001b[0m\u001b[0;34m.\u001b[0m\u001b[0mformat\u001b[0m\u001b[0;34m(\u001b[0m\u001b[0mname\u001b[0m\u001b[0;34m,\u001b[0m\u001b[0mprecision2\u001b[0m\u001b[0;34m)\u001b[0m\u001b[0;34m)\u001b[0m \u001b[0;31m#Calculate the precision of the classifier\u001b[0m\u001b[0;34m\u001b[0m\u001b[0;34m\u001b[0m\u001b[0m\n\u001b[1;32m     19\u001b[0m         \u001b[0mres2\u001b[0m\u001b[0;34m.\u001b[0m\u001b[0mappend\u001b[0m\u001b[0;34m(\u001b[0m\u001b[0mprecision2\u001b[0m\u001b[0;34m)\u001b[0m \u001b[0;31m#Add the prescision to list of results\u001b[0m\u001b[0;34m\u001b[0m\u001b[0;34m\u001b[0m\u001b[0m\n",
            "\u001b[0;32m<ipython-input-13-46b68a603ab7>\u001b[0m in \u001b[0;36mprecision\u001b[0;34m(self)\u001b[0m\n\u001b[1;32m     33\u001b[0m   \u001b[0;32mdef\u001b[0m \u001b[0mprecision\u001b[0m\u001b[0;34m(\u001b[0m\u001b[0mself\u001b[0m\u001b[0;34m)\u001b[0m\u001b[0;34m:\u001b[0m\u001b[0;34m\u001b[0m\u001b[0;34m\u001b[0m\u001b[0m\n\u001b[1;32m     34\u001b[0m \u001b[0;34m\u001b[0m\u001b[0m\n\u001b[0;32m---> 35\u001b[0;31m     \u001b[0mp\u001b[0m \u001b[0;34m=\u001b[0m \u001b[0mself\u001b[0m\u001b[0;34m.\u001b[0m\u001b[0mTP\u001b[0m \u001b[0;34m/\u001b[0m \u001b[0;34m(\u001b[0m\u001b[0mself\u001b[0m\u001b[0;34m.\u001b[0m\u001b[0mTP\u001b[0m \u001b[0;34m+\u001b[0m \u001b[0mself\u001b[0m\u001b[0;34m.\u001b[0m\u001b[0mFP\u001b[0m\u001b[0;34m)\u001b[0m\u001b[0;34m\u001b[0m\u001b[0;34m\u001b[0m\u001b[0m\n\u001b[0m\u001b[1;32m     36\u001b[0m \u001b[0;34m\u001b[0m\u001b[0m\n\u001b[1;32m     37\u001b[0m     \u001b[0;32mreturn\u001b[0m \u001b[0mp\u001b[0m\u001b[0;34m\u001b[0m\u001b[0;34m\u001b[0m\u001b[0m\n",
            "\u001b[0;31mZeroDivisionError\u001b[0m: division by zero"
          ]
        }
      ]
    },
    {
      "cell_type": "markdown",
      "metadata": {
        "id": "8JPxfBdJNEJx"
      },
      "source": [
        ""
      ]
    },
    {
      "cell_type": "code",
      "metadata": {
        "id": "34rdlS_iPov6"
      },
      "source": [
        "##This code will word count all of the markdown cells in the notebook saved at filepath\n",
        "##Running it before providing any answers shows that the questions have a word count of 388\n",
        "\n",
        "import io\n",
        "from nbformat import current\n",
        "\n",
        "filepath=\"/content/drive/My Drive/Colab Notebooks/NLEassignment1.ipynb\"\n",
        "question_count=388\n",
        "\n",
        "with io.open(filepath, 'r', encoding='utf-8') as f:\n",
        "    nb = current.read(f, 'json')\n",
        "\n",
        "word_count = 0\n",
        "for cell in nb.worksheets[0].cells:\n",
        "    if cell.cell_type == \"markdown\":\n",
        "        word_count += len(cell['source'].replace('#', '').lstrip().split(' '))\n",
        "print(\"Submission length is {}\".format(word_count-question_count))"
      ],
      "execution_count": null,
      "outputs": []
    },
    {
      "cell_type": "code",
      "metadata": {
        "id": "PtqCcG6wPsmf"
      },
      "source": [
        ""
      ],
      "execution_count": null,
      "outputs": []
    }
  ]
}
